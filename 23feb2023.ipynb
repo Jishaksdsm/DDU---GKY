{
 "cells": [
  {
   "cell_type": "code",
   "execution_count": 7,
   "id": "f249bf82",
   "metadata": {},
   "outputs": [
    {
     "name": "stdout",
     "output_type": "stream",
     "text": [
      "Twinkle, twinkle, little star \n",
      "\tHow I wonder what you are!\n",
      "\t\n"
     ]
    }
   ],
   "source": [
    "print(\"Twinkle, twinkle, little star \\n\\tHow I wonder what you are!\\n\\t\" )\n",
    "# \t\tUp above the world so high,   \t\t\n",
    "# \t\tLike a diamond in the sky. \n",
    "# Twinkle, twinkle, little star, \n",
    "# \tHow I wonder what you are!\")"
   ]
  },
  {
   "cell_type": "code",
   "execution_count": 12,
   "id": "d05a5697",
   "metadata": {},
   "outputs": [
    {
     "name": "stdout",
     "output_type": "stream",
     "text": [
      "2023-02-23 12:09:38.028379\n"
     ]
    }
   ],
   "source": [
    "import datetime\n",
    "\n",
    "current_time = datetime.datetime.now()\n",
    "print(current_time)"
   ]
  },
  {
   "cell_type": "code",
   "execution_count": 15,
   "id": "741b6162",
   "metadata": {},
   "outputs": [
    {
     "name": "stdout",
     "output_type": "stream",
     "text": [
      "Python version\n",
      "3.9.13 (main, Aug 25 2022, 23:51:50) [MSC v.1916 64 bit (AMD64)]\n",
      "Version info.\n",
      "sys.version_info(major=3, minor=9, micro=13, releaselevel='final', serial=0)\n"
     ]
    }
   ],
   "source": [
    "import sys\n",
    "print(\"Python version\")\n",
    "print (sys.version)\n",
    "print(\"Version info.\")\n",
    "print (sys.version_info)"
   ]
  },
  {
   "cell_type": "code",
   "execution_count": 17,
   "id": "bc4581f6",
   "metadata": {},
   "outputs": [
    {
     "name": "stdout",
     "output_type": "stream",
     "text": [
      "enter r5\n",
      "area of circle 78.53981633974483\n"
     ]
    }
   ],
   "source": [
    "from math import pi\n",
    "r=int(input(\"enter r\"))\n",
    "print(\"area of circle\",pi*r*r)"
   ]
  },
  {
   "cell_type": "code",
   "execution_count": 28,
   "id": "83ddde59",
   "metadata": {},
   "outputs": [
    {
     "name": "stdout",
     "output_type": "stream",
     "text": [
      "0 aa = 2\n",
      "1 bbb = 3\n",
      "2 cccc = 4\n",
      "3 dddd = 4\n"
     ]
    }
   ],
   "source": [
    "v=[\"aa\",\"bbb\",\"cccc\",\"dddd\"]\n",
    "for i in v:\n",
    "    print(v.index(i),i,'=',len(i))\n"
   ]
  },
  {
   "cell_type": "code",
   "execution_count": 29,
   "id": "96b225a3",
   "metadata": {},
   "outputs": [
    {
     "name": "stdout",
     "output_type": "stream",
     "text": [
      "(3, 5, 23, 6)\n"
     ]
    }
   ],
   "source": [
    "l=[3,5,23,6]\n",
    "print(tuple(l))"
   ]
  },
  {
   "cell_type": "code",
   "execution_count": null,
   "id": "5c59a977",
   "metadata": {},
   "outputs": [],
   "source": []
  }
 ],
 "metadata": {
  "kernelspec": {
   "display_name": "Python 3 (ipykernel)",
   "language": "python",
   "name": "python3"
  },
  "language_info": {
   "codemirror_mode": {
    "name": "ipython",
    "version": 3
   },
   "file_extension": ".py",
   "mimetype": "text/x-python",
   "name": "python",
   "nbconvert_exporter": "python",
   "pygments_lexer": "ipython3",
   "version": "3.9.13"
  }
 },
 "nbformat": 4,
 "nbformat_minor": 5
}
