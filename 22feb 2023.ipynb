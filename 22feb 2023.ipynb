{
 "cells": [
  {
   "cell_type": "code",
   "execution_count": 13,
   "id": "ea6a9947",
   "metadata": {},
   "outputs": [
    {
     "name": "stdout",
     "output_type": "stream",
     "text": [
      "{1: 1, 2: 4, 3: 9, 4: 16, 5: 25}\n"
     ]
    }
   ],
   "source": [
    "dict1={}\n",
    "for i in range(1,6):\n",
    "    x=i*i\n",
    "    dict1[i]=x\n",
    "print(dict1)\n",
    "    \n",
    "\n"
   ]
  },
  {
   "cell_type": "code",
   "execution_count": null,
   "id": "a5504681",
   "metadata": {},
   "outputs": [],
   "source": [
    "print(a)"
   ]
  },
  {
   "cell_type": "code",
   "execution_count": null,
   "id": "1cbf3e2e",
   "metadata": {},
   "outputs": [],
   "source": [
    "# write a code to two merge two python dictionaries\n",
    "a={\"name\":\"arun\",\"age\":20}\n",
    "b={\"email\":\"12352HGD@G.COM\",\"phone\":125413541}\n",
    "a.update(b)\n",
    "print(a)"
   ]
  },
  {
   "cell_type": "code",
   "execution_count": 9,
   "id": "5a5751c9",
   "metadata": {},
   "outputs": [
    {
     "name": "stdout",
     "output_type": "stream",
     "text": [
      "9\n"
     ]
    }
   ],
   "source": [
    "#python prg to sum all items in dict\n",
    "a={1:2,5:2,3:4}\n",
    "print(sum(a))\n"
   ]
  },
  {
   "cell_type": "code",
   "execution_count": 10,
   "id": "751a88ef",
   "metadata": {},
   "outputs": [
    {
     "name": "stdout",
     "output_type": "stream",
     "text": [
      "8\n"
     ]
    }
   ],
   "source": [
    "print(sum(a.values()))"
   ]
  },
  {
   "cell_type": "code",
   "execution_count": 6,
   "id": "4eca5e24",
   "metadata": {},
   "outputs": [
    {
     "name": "stdout",
     "output_type": "stream",
     "text": [
      "keys 15\n",
      "values 16\n"
     ]
    }
   ],
   "source": [
    "a={1:2,5:2,3:4}\n",
    "m=1\n",
    "for i in a:\n",
    "    m=m*i\n",
    "print(\"keys\",m)\n",
    "m=1\n",
    "for i in a.values():\n",
    "    m=m*i\n",
    "print(\"values\",m)\n"
   ]
  },
  {
   "cell_type": "code",
   "execution_count": 12,
   "id": "7efd8d62",
   "metadata": {},
   "outputs": [
    {
     "name": "stdout",
     "output_type": "stream",
     "text": [
      "{1: 2, 3: 4}\n"
     ]
    }
   ],
   "source": [
    "#remove key\n",
    "a={1:2,5:2,3:4}\n",
    "del a[5]\n",
    "print(a)"
   ]
  },
  {
   "cell_type": "code",
   "execution_count": 14,
   "id": "3dd9a53a",
   "metadata": {},
   "outputs": [
    {
     "name": "stdout",
     "output_type": "stream",
     "text": [
      "('name', 'arun')\n",
      "('age', 20)\n",
      "('email', '12352HGD@G.COM')\n",
      "('phone', 125413541)\n"
     ]
    }
   ],
   "source": [
    "#print dictionary line by line\n",
    "a={\"name\":\"arun\",\"age\":20,\"email\":\"12352HGD@G.COM\",\"phone\":125413541}\n",
    "for i in a.items():\n",
    "    print(i)"
   ]
  },
  {
   "cell_type": "code",
   "execution_count": 42,
   "id": "b9895e66",
   "metadata": {},
   "outputs": [
    {
     "name": "stdout",
     "output_type": "stream",
     "text": [
      "15\n",
      "25\n",
      "35\n"
     ]
    }
   ],
   "source": [
    "\n",
    "\n",
    "dict1={'x':[11,12,13,14,15,16,17,18,19]}\n",
    "dict2={'y':[21,22,23,24,25,26,27,28,29]}\n",
    "dict3={'z':[31,32,33,34,35,36,37,38,39]}\n",
    "j=0\n",
    "for i in dict1.values():\n",
    "    for a in i:\n",
    "        j=j+1\n",
    "        if (j==5):\n",
    "            print(a)\n",
    "j=0\n",
    "for i in dict2.values():\n",
    "    for a in i:\n",
    "        j=j+1\n",
    "        if(j==5):\n",
    "            print(a)\n",
    "            \n",
    "j=0\n",
    "for i in dict3.values():\n",
    "    for a in i:\n",
    "        j=j+1\n",
    "        if(j==5):\n",
    "            print(a)\n",
    "\n",
    "\n"
   ]
  },
  {
   "cell_type": "code",
   "execution_count": 44,
   "id": "5220e2c9",
   "metadata": {},
   "outputs": [
    {
     "name": "stdout",
     "output_type": "stream",
     "text": [
      "15\n",
      "25\n",
      "35\n"
     ]
    }
   ],
   "source": [
    "dict1={'x':[11,12,13,14,15,16,17,18,19]}\n",
    "dict2={'y':[21,22,23,24,25,26,27,28,29]}\n",
    "dict3={'z':[31,32,33,34,35,36,37,38,39]}\n",
    "def function(s):\n",
    "    j=0\n",
    "    for i in s.values():\n",
    "        for a in i:\n",
    "            j=j+1\n",
    "            if (j==5):\n",
    "                print(a)\n",
    "function(dict1)\n",
    "function(dict2)\n",
    "function(dict3)"
   ]
  },
  {
   "cell_type": "code",
   "execution_count": 45,
   "id": "f0e21b63",
   "metadata": {},
   "outputs": [
    {
     "name": "stdout",
     "output_type": "stream",
     "text": [
      "15\n",
      "25\n",
      "35\n"
     ]
    }
   ],
   "source": [
    "d={'x':[11,12,13,14,15,16,17,18,19],\n",
    "'y':[21,22,23,24,25,26,27,28,29],\n",
    "'z':[31,32,33,34,35,36,37,38,39]\n",
    "  }\n",
    "for i in d:\n",
    "    print(d[i][4])"
   ]
  },
  {
   "cell_type": "code",
   "execution_count": null,
   "id": "26a88762",
   "metadata": {},
   "outputs": [],
   "source": []
  }
 ],
 "metadata": {
  "kernelspec": {
   "display_name": "Python 3 (ipykernel)",
   "language": "python",
   "name": "python3"
  },
  "language_info": {
   "codemirror_mode": {
    "name": "ipython",
    "version": 3
   },
   "file_extension": ".py",
   "mimetype": "text/x-python",
   "name": "python",
   "nbconvert_exporter": "python",
   "pygments_lexer": "ipython3",
   "version": "3.9.13"
  }
 },
 "nbformat": 4,
 "nbformat_minor": 5
}
